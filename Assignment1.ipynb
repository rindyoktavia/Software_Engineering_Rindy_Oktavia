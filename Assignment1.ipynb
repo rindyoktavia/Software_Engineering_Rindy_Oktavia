{
  "nbformat": 4,
  "nbformat_minor": 0,
  "metadata": {
    "colab": {
      "name": "Untitled1.ipynb",
      "provenance": []
    },
    "kernelspec": {
      "name": "python3",
      "display_name": "Python 3"
    },
    "language_info": {
      "name": "python"
    }
  },
  "cells": [
    {
      "cell_type": "code",
      "metadata": {
        "colab": {
          "base_uri": "https://localhost:8080/"
        },
        "id": "vSpqnsKk_whG",
        "outputId": "ca3c28ac-3daf-4f8f-cb77-4e12927ee674"
      },
      "source": [
        "import math\n",
        "a = int(input())\n",
        "\n",
        "print (\"sin : \", math.sin(a))\n",
        "print (\"sinh : \", math.sinh(a))"
      ],
      "execution_count": 13,
      "outputs": [
        {
          "output_type": "stream",
          "name": "stdout",
          "text": [
            "90\n",
            "sin :  0.8939966636005579\n",
            "sinh :  6.102016471589204e+38\n"
          ]
        }
      ]
    }
  ]
}