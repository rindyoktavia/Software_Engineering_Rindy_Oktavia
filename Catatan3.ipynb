{
  "nbformat": 4,
  "nbformat_minor": 0,
  "metadata": {
    "colab": {
      "name": "Catatan3.ipynb",
      "provenance": [],
      "authorship_tag": "ABX9TyMzVJSFQRDZag8c1Ac7vSGG",
      "include_colab_link": true
    },
    "kernelspec": {
      "name": "python3",
      "display_name": "Python 3"
    },
    "language_info": {
      "name": "python"
    }
  },
  "cells": [
    {
      "cell_type": "markdown",
      "metadata": {
        "id": "view-in-github",
        "colab_type": "text"
      },
      "source": [
        "<a href=\"https://colab.research.google.com/github/rindyoktavia/Software_Engineering_Rindy_Oktavia/blob/main/Catatan3.ipynb\" target=\"_parent\"><img src=\"https://colab.research.google.com/assets/colab-badge.svg\" alt=\"Open In Colab\"/></a>"
      ]
    },
    {
      "cell_type": "code",
      "metadata": {
        "id": "Q91LHPkQPC_R"
      },
      "source": [
        "import time"
      ],
      "execution_count": 15,
      "outputs": []
    },
    {
      "cell_type": "code",
      "metadata": {
        "colab": {
          "base_uri": "https://localhost:8080/"
        },
        "id": "Te_P6iKSSI2r",
        "outputId": "20e00c54-6ff0-46ff-83a7-e3ee1ddc3ea4"
      },
      "source": [
        "#Versi Biasa\n",
        "tic = time.time()\n",
        "list_bilangan_ganjil = []\n",
        "for i in range(0, 31):\n",
        "  if i % 2 == 1:\n",
        "    list_bilangan_ganjil.append(i)\n",
        "toc = time.time()\n",
        "print(\"Waktu pengerjaannya {}\".format(toc-tic))\n",
        "\n",
        "print(list_bilangan_ganjil)"
      ],
      "execution_count": 16,
      "outputs": [
        {
          "output_type": "stream",
          "name": "stdout",
          "text": [
            "Waktu pengerjaannya 0.00011372566223144531\n",
            "[1, 3, 5, 7, 9, 11, 13, 15, 17, 19, 21, 23, 25, 27, 29]\n"
          ]
        }
      ]
    },
    {
      "cell_type": "code",
      "metadata": {
        "colab": {
          "base_uri": "https://localhost:8080/"
        },
        "id": "L9E7aam4SK2f",
        "outputId": "3b3ae9d4-7198-4eac-8a56-7ee21fa2c2ae"
      },
      "source": [
        "#Versi Comprehensive\n",
        "tic = time.time()\n",
        "list_bilangan_ganjil_comp = [i for i in range(0, 300000) if i % 2 == 1]\n",
        "toc = time.time()\n",
        "print(\"Waktu pengerjaannya{}\".format(toc-tic))"
      ],
      "execution_count": 17,
      "outputs": [
        {
          "output_type": "stream",
          "name": "stdout",
          "text": [
            "Waktu pengerjaannya0.036104440689086914\n"
          ]
        }
      ]
    },
    {
      "cell_type": "code",
      "metadata": {
        "id": "Gd51_R1pQIIr"
      },
      "source": [
        "#Versi Comprehensive\n",
        "list_bilangan_ganjil_comp = [i for i in range(0, 31) if i % 2 == 1]"
      ],
      "execution_count": 18,
      "outputs": []
    },
    {
      "cell_type": "code",
      "metadata": {
        "colab": {
          "base_uri": "https://localhost:8080/"
        },
        "id": "X1ZVuEXsPVWG",
        "outputId": "a30f70b4-70f1-4ce8-9a14-a438a84f1ef3"
      },
      "source": [
        "print(list_bilangan_ganjil_comp)"
      ],
      "execution_count": 19,
      "outputs": [
        {
          "output_type": "stream",
          "name": "stdout",
          "text": [
            "[1, 3, 5, 7, 9, 11, 13, 15, 17, 19, 21, 23, 25, 27, 29]\n"
          ]
        }
      ]
    },
    {
      "cell_type": "code",
      "metadata": {
        "colab": {
          "base_uri": "https://localhost:8080/"
        },
        "id": "Rl0E6pFiPaR_",
        "outputId": "ca72886f-9b11-48ad-8ff9-fbbc945ffd7b"
      },
      "source": [
        "list_bilangan_genap_comp = [i for i in range(0, 31) if i % 2 == 0]\n",
        "print(list_bilangan_genap_comp)"
      ],
      "execution_count": 20,
      "outputs": [
        {
          "output_type": "stream",
          "name": "stdout",
          "text": [
            "[0, 2, 4, 6, 8, 10, 12, 14, 16, 18, 20, 22, 24, 26, 28, 30]\n"
          ]
        }
      ]
    },
    {
      "cell_type": "code",
      "metadata": {
        "colab": {
          "base_uri": "https://localhost:8080/"
        },
        "id": "WEurjVOlStqJ",
        "outputId": "7419aec5-b256-4afa-dafd-9f20fe201f8e"
      },
      "source": [
        "num_classes = ['even' if num%2 == 0 else 'kelipatan tiga' if num%3 == 0 else 'odd' for num in range(30)]\n",
        "print(num_classes)"
      ],
      "execution_count": 22,
      "outputs": [
        {
          "output_type": "stream",
          "name": "stdout",
          "text": [
            "['even', 'odd', 'even', 'kelipatan tiga', 'even', 'odd', 'even', 'odd', 'even', 'kelipatan tiga', 'even', 'odd', 'even', 'odd', 'even', 'kelipatan tiga', 'even', 'odd', 'even', 'odd', 'even', 'kelipatan tiga', 'even', 'odd', 'even', 'odd', 'even', 'kelipatan tiga', 'even', 'odd']\n"
          ]
        }
      ]
    },
    {
      "cell_type": "code",
      "metadata": {
        "id": "RtFBsSvUTN8o"
      },
      "source": [
        "def kalikan_dengan_dua(x):\n",
        "  return x * 2\n",
        "list_dikali_dua = [kalikan_dengan_dua(i) for i in range(10)]"
      ],
      "execution_count": 23,
      "outputs": []
    },
    {
      "cell_type": "code",
      "metadata": {
        "colab": {
          "base_uri": "https://localhost:8080/"
        },
        "id": "3uf-EeJaTivm",
        "outputId": "a85d3aa0-317b-4ed0-9c8e-f3b64be32634"
      },
      "source": [
        "list_dikali_dua"
      ],
      "execution_count": 24,
      "outputs": [
        {
          "output_type": "execute_result",
          "data": {
            "text/plain": [
              "[0, 2, 4, 6, 8, 10, 12, 14, 16, 18]"
            ]
          },
          "metadata": {},
          "execution_count": 24
        }
      ]
    },
    {
      "cell_type": "code",
      "metadata": {
        "id": "6pfK8GLgTqAi"
      },
      "source": [
        "#Class\n",
        "class rumus_rumus_matematika():\n",
        "\n",
        "  def luasPersegi(self,s):\n",
        "    return s**2\n",
        "  def luasSegitiga(self,a,t):\n",
        "    return (1/2)*a*t\n",
        "  def luasJajarGenjang(self,a,t):\n",
        "    return a*t\n",
        "  def luasPersegiPanjang(self,p,l):\n",
        "    return p*l\n",
        "  def luasLingkaran(self,r):\n",
        "    return 3.14*r**2"
      ],
      "execution_count": 26,
      "outputs": []
    },
    {
      "cell_type": "code",
      "metadata": {
        "id": "O-wCoYg5VGSg"
      },
      "source": [
        "matematika = rumus_rumus_matematika()"
      ],
      "execution_count": 27,
      "outputs": []
    },
    {
      "cell_type": "code",
      "metadata": {
        "colab": {
          "base_uri": "https://localhost:8080/"
        },
        "id": "-VA1rvYHVMoG",
        "outputId": "8db1bd33-3aed-404d-ac40-0a9d1e4aaf5d"
      },
      "source": [
        "matematika.luasPersegi(4)"
      ],
      "execution_count": 28,
      "outputs": [
        {
          "output_type": "execute_result",
          "data": {
            "text/plain": [
              "16"
            ]
          },
          "metadata": {},
          "execution_count": 28
        }
      ]
    },
    {
      "cell_type": "code",
      "metadata": {
        "colab": {
          "base_uri": "https://localhost:8080/"
        },
        "id": "yW9ju6CQRGNO",
        "outputId": "1c02b301-e901-47e4-edf5-3725eff1767e"
      },
      "source": [
        "type(list_bilangan_ganjil_comp)"
      ],
      "execution_count": 14,
      "outputs": [
        {
          "output_type": "execute_result",
          "data": {
            "text/plain": [
              "list"
            ]
          },
          "metadata": {},
          "execution_count": 14
        }
      ]
    }
  ]
}