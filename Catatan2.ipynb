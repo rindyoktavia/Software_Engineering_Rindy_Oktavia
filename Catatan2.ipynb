{
  "nbformat": 4,
  "nbformat_minor": 0,
  "metadata": {
    "colab": {
      "name": "Catatan2.ipynb",
      "provenance": [],
      "authorship_tag": "ABX9TyOg0GhRYlX4IY325eLvSJzq",
      "include_colab_link": true
    },
    "kernelspec": {
      "name": "python3",
      "display_name": "Python 3"
    },
    "language_info": {
      "name": "python"
    }
  },
  "cells": [
    {
      "cell_type": "markdown",
      "metadata": {
        "id": "view-in-github",
        "colab_type": "text"
      },
      "source": [
        "<a href=\"https://colab.research.google.com/github/rindyoktavia/Software_Engineering_Rindy_Oktavia/blob/main/Catatan2.ipynb\" target=\"_parent\"><img src=\"https://colab.research.google.com/assets/colab-badge.svg\" alt=\"Open In Colab\"/></a>"
      ]
    },
    {
      "cell_type": "code",
      "metadata": {
        "colab": {
          "base_uri": "https://localhost:8080/"
        },
        "id": "GDB5177KT4pB",
        "outputId": "08e84870-b0a1-44ba-f401-3db817608b7c"
      },
      "source": [
        "# List\n",
        "contoh_list = [\"Rindy\", 12, 12.0, ['Oktavia', 'Rinn'], {}, {}, True]\n",
        "print(contoh_list[0])\n",
        "print(contoh_list[1])\n",
        "print(contoh_list[-1])"
      ],
      "execution_count": 28,
      "outputs": [
        {
          "output_type": "stream",
          "name": "stdout",
          "text": [
            "Rindy\n",
            "12\n",
            "True\n"
          ]
        }
      ]
    },
    {
      "cell_type": "code",
      "metadata": {
        "id": "m7a_1EEIUnll"
      },
      "source": [
        "# Contoh method di list\n",
        "list1 = [1,3,5,7,9]"
      ],
      "execution_count": 29,
      "outputs": []
    },
    {
      "cell_type": "code",
      "metadata": {
        "colab": {
          "base_uri": "https://localhost:8080/"
        },
        "id": "VgvxMhCNUwfJ",
        "outputId": "5eb88a42-358d-4d17-95b7-561469eb2833"
      },
      "source": [
        "# append untuk menambah nilai diakhir\n",
        "list1.append(\"Rindy\")\n",
        "list1"
      ],
      "execution_count": 30,
      "outputs": [
        {
          "output_type": "execute_result",
          "data": {
            "text/plain": [
              "[1, 3, 5, 7, 9, 'Rindy']"
            ]
          },
          "metadata": {},
          "execution_count": 30
        }
      ]
    },
    {
      "cell_type": "code",
      "metadata": {
        "colab": {
          "base_uri": "https://localhost:8080/"
        },
        "id": "xLSCXnojVIfb",
        "outputId": "938ac2b7-5db6-48a3-891e-f60bd8af3838"
      },
      "source": [
        "# sort untuk mengurutkan nilai dari kecil terbesar\n",
        "list_angka = [1,3,5,7,9]\n",
        "list_angka.sort() \n",
        "list_angka"
      ],
      "execution_count": 31,
      "outputs": [
        {
          "output_type": "execute_result",
          "data": {
            "text/plain": [
              "[1, 3, 5, 7, 9]"
            ]
          },
          "metadata": {},
          "execution_count": 31
        }
      ]
    },
    {
      "cell_type": "code",
      "metadata": {
        "colab": {
          "base_uri": "https://localhost:8080/"
        },
        "id": "z7m_DlXAVtMd",
        "outputId": "a321d8f9-6397-452d-ad52-e6cc17850a00"
      },
      "source": [
        "# pop untuk menghilangkan nilai diakhir\n",
        "list_angka = [1,3,5,7,9]\n",
        "list_angka.pop()\n",
        "list_angka"
      ],
      "execution_count": 32,
      "outputs": [
        {
          "output_type": "execute_result",
          "data": {
            "text/plain": [
              "[1, 3, 5, 7]"
            ]
          },
          "metadata": {},
          "execution_count": 32
        }
      ]
    },
    {
      "cell_type": "code",
      "metadata": {
        "colab": {
          "base_uri": "https://localhost:8080/"
        },
        "id": "OIFGfqmcWUEq",
        "outputId": "588958db-6db7-4720-b5bc-755f0896b6ce"
      },
      "source": [
        "# remove untuk menghapus suatu nilai tertentu\n",
        "list_angka = [1,3,5,7,9]\n",
        "list_angka.remove(7)\n",
        "list_angka"
      ],
      "execution_count": 33,
      "outputs": [
        {
          "output_type": "execute_result",
          "data": {
            "text/plain": [
              "[1, 3, 5, 9]"
            ]
          },
          "metadata": {},
          "execution_count": 33
        }
      ]
    },
    {
      "cell_type": "code",
      "metadata": {
        "colab": {
          "base_uri": "https://localhost:8080/"
        },
        "id": "rYN6svnKUApe",
        "outputId": "5f949d5d-505a-4fe0-ad45-be573f98654d"
      },
      "source": [
        "# Dictionary\n",
        "contoh_dict = {2:\"Rindy\", \"Dua Belas\":12, False:12.0, 3.0:['David', 'Dian'], \"Dict\":{}, 333:(), \"Boolean\":True}\n",
        "print(contoh_dict[2])\n",
        "print(contoh_dict[\"Dua Belas\"])\n",
        "print(contoh_dict[3.0])"
      ],
      "execution_count": 34,
      "outputs": [
        {
          "output_type": "stream",
          "name": "stdout",
          "text": [
            "Rindy\n",
            "12\n",
            "['David', 'Dian']\n"
          ]
        }
      ]
    },
    {
      "cell_type": "code",
      "metadata": {
        "colab": {
          "base_uri": "https://localhost:8080/"
        },
        "id": "GeoLPo4fUQzp",
        "outputId": "6f4414b5-8bd9-4edb-f003-7ffc9bf84540"
      },
      "source": [
        "# Contoh method di dict: .keys()\n",
        "contoh_dict.keys()"
      ],
      "execution_count": 35,
      "outputs": [
        {
          "output_type": "execute_result",
          "data": {
            "text/plain": [
              "dict_keys([2, 'Dua Belas', False, 3.0, 'Dict', 333, 'Boolean'])"
            ]
          },
          "metadata": {},
          "execution_count": 35
        }
      ]
    },
    {
      "cell_type": "code",
      "metadata": {
        "colab": {
          "base_uri": "https://localhost:8080/"
        },
        "id": "d3iLzjdjXGuN",
        "outputId": "f5888d0d-1939-497b-a319-fbf6b8306581"
      },
      "source": [
        "# Set\n",
        "list_angka = [1,2,3,4,4,5,7]\n",
        "set_angka = set(list_angka)\n",
        "set_angka"
      ],
      "execution_count": 36,
      "outputs": [
        {
          "output_type": "execute_result",
          "data": {
            "text/plain": [
              "{1, 2, 3, 4, 5, 7}"
            ]
          },
          "metadata": {},
          "execution_count": 36
        }
      ]
    },
    {
      "cell_type": "code",
      "metadata": {
        "colab": {
          "base_uri": "https://localhost:8080/"
        },
        "id": "FWIBLbgCYNgY",
        "outputId": "dcf11a62-0390-4d94-d6a8-43a731bf7263"
      },
      "source": [
        "# Tuple\n",
        "tuple_angka = [1,2,3,4,4,5,7]\n",
        "tuple_angka[0]"
      ],
      "execution_count": 37,
      "outputs": [
        {
          "output_type": "execute_result",
          "data": {
            "text/plain": [
              "1"
            ]
          },
          "metadata": {},
          "execution_count": 37
        }
      ]
    },
    {
      "cell_type": "code",
      "metadata": {
        "colab": {
          "base_uri": "https://localhost:8080/"
        },
        "id": "OXk0YOcGZ2Ce",
        "outputId": "f260fadc-2e37-47a3-8e47-8d84db306ed0"
      },
      "source": [
        "# Looping\n",
        "for i in range(10):\n",
        "\t\tprint(\"Hai\")"
      ],
      "execution_count": 38,
      "outputs": [
        {
          "output_type": "stream",
          "name": "stdout",
          "text": [
            "Hai\n",
            "Hai\n",
            "Hai\n",
            "Hai\n",
            "Hai\n",
            "Hai\n",
            "Hai\n",
            "Hai\n",
            "Hai\n",
            "Hai\n"
          ]
        }
      ]
    },
    {
      "cell_type": "code",
      "metadata": {
        "colab": {
          "base_uri": "https://localhost:8080/"
        },
        "id": "agwC9vWCZ_Ww",
        "outputId": "c7f54d1e-6fae-4dc4-b4a6-3e0394b705a7"
      },
      "source": [
        "for i in range(10,0,-1):\n",
        "    print(i)"
      ],
      "execution_count": 39,
      "outputs": [
        {
          "output_type": "stream",
          "name": "stdout",
          "text": [
            "10\n",
            "9\n",
            "8\n",
            "7\n",
            "6\n",
            "5\n",
            "4\n",
            "3\n",
            "2\n",
            "1\n"
          ]
        }
      ]
    },
    {
      "cell_type": "code",
      "metadata": {
        "colab": {
          "base_uri": "https://localhost:8080/"
        },
        "id": "k5rTghxAaCxl",
        "outputId": "0da4da92-f56e-4567-a3b4-fd0a6f3f49c8"
      },
      "source": [
        "# while looping => Forever loop\n",
        "a = 0\n",
        "while a<20:\n",
        "    print(\"a masih lebih kecil dari 20 {}\".format(a))\n",
        "    a += 1"
      ],
      "execution_count": 40,
      "outputs": [
        {
          "output_type": "stream",
          "name": "stdout",
          "text": [
            "a masih lebih kecil dari 20 0\n",
            "a masih lebih kecil dari 20 1\n",
            "a masih lebih kecil dari 20 2\n",
            "a masih lebih kecil dari 20 3\n",
            "a masih lebih kecil dari 20 4\n",
            "a masih lebih kecil dari 20 5\n",
            "a masih lebih kecil dari 20 6\n",
            "a masih lebih kecil dari 20 7\n",
            "a masih lebih kecil dari 20 8\n",
            "a masih lebih kecil dari 20 9\n",
            "a masih lebih kecil dari 20 10\n",
            "a masih lebih kecil dari 20 11\n",
            "a masih lebih kecil dari 20 12\n",
            "a masih lebih kecil dari 20 13\n",
            "a masih lebih kecil dari 20 14\n",
            "a masih lebih kecil dari 20 15\n",
            "a masih lebih kecil dari 20 16\n",
            "a masih lebih kecil dari 20 17\n",
            "a masih lebih kecil dari 20 18\n",
            "a masih lebih kecil dari 20 19\n"
          ]
        }
      ]
    },
    {
      "cell_type": "code",
      "metadata": {
        "colab": {
          "base_uri": "https://localhost:8080/"
        },
        "id": "p90XxtVwbAth",
        "outputId": "abc280d3-f5f6-4759-bcc8-84f9775509a2"
      },
      "source": [
        "# for else\n",
        "for i in range(0,20,1):\n",
        "    print(i)\n",
        "else:\n",
        "    print(\"Aku akan muncul jika break tidak tereksekusi\")"
      ],
      "execution_count": 41,
      "outputs": [
        {
          "output_type": "stream",
          "name": "stdout",
          "text": [
            "0\n",
            "1\n",
            "2\n",
            "3\n",
            "4\n",
            "5\n",
            "6\n",
            "7\n",
            "8\n",
            "9\n",
            "10\n",
            "11\n",
            "12\n",
            "13\n",
            "14\n",
            "15\n",
            "16\n",
            "17\n",
            "18\n",
            "19\n",
            "Aku akan muncul jika break tidak tereksekusi\n"
          ]
        }
      ]
    },
    {
      "cell_type": "code",
      "metadata": {
        "id": "LLjHxWtrbdj1"
      },
      "source": [
        "# Function\n",
        "def nama_function(a,b):\n",
        "    # masukan code disini\n",
        "    if a > b:\n",
        "        return a\n",
        "    else:\n",
        "        return b"
      ],
      "execution_count": 42,
      "outputs": []
    },
    {
      "cell_type": "code",
      "metadata": {
        "id": "KdIdf4XbcJAZ"
      },
      "source": [
        ""
      ],
      "execution_count": null,
      "outputs": []
    }
  ]
}